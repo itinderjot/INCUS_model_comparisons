{
 "cells": [
  {
   "cell_type": "code",
   "execution_count": 6,
   "id": "fa5df39c-6a3c-4b27-bcec-db63fd90e901",
   "metadata": {},
   "outputs": [],
   "source": [
    "import matplotlib.pyplot as plt\n",
    "import numpy as np\n",
    "import read_vars_WRF_RAMS"
   ]
  },
  {
   "cell_type": "code",
   "execution_count": 5,
   "id": "0035f03b-9aae-43ee-9297-86fab5680152",
   "metadata": {},
   "outputs": [
    {
     "name": "stdout",
     "output_type": "stream",
     "text": [
      "PHI2.1-R /monsoon/MODEL/LES_MODEL_DATA/V0/PHI2.1-R-V0/G3/out_30s/a-A-2019-09-10-153000-g1.h5\n",
      "PHI1.1-R /monsoon/MODEL/LES_MODEL_DATA/V0/PHI1.1-R-V0/G3/out_30s/a-A-2019-09-10-120000-g1.h5\n",
      "AUS1.1-R /monsoon/MODEL/LES_MODEL_DATA/V0/AUS1.1-R-V0/G3/out_30s/a-A-2006-01-23-120000-g1.h5\n",
      "USA1.1-R /monsoon/MODEL/LES_MODEL_DATA/V0/USA1.1-R-V0/G3/out_30s/a-A-2022-09-16-110000-g1.h5\n",
      "WPO1.1-R /monsoon/MODEL/LES_MODEL_DATA/V0/WPO1.1-R-V0/G3/out_30s/a-A-2018-08-28-065000-g1.h5\n",
      "BRA1.1-R /monsoon/MODEL/LES_MODEL_DATA/V0/BRA1.1-R-V0/G3/out_30s/a-A-2014-03-31-190000-g1.h5\n",
      "BRA1.2-R /monsoon/MODEL/LES_MODEL_DATA/V0/BRA1.2-R-V0/G3/out_30s/a-A-2014-04-01-140000-g1.h5\n",
      "RSA1.1-R /monsoon/MODEL/LES_MODEL_DATA/V0/RSA1.1-R-V0/G3/out_30s/a-A-2008-03-11-123000-g1.h5\n",
      "ARG1.1-R /monsoon/MODEL/LES_MODEL_DATA/V0/ARG1.1-R-V0/G3_old/out_30s/a-A-2018-12-13-210000-g1.h5\n",
      "ARG1.2-R /monsoon/MODEL/LES_MODEL_DATA/V0/ARG1.2-R-V0/G3/out_30s/a-A-2018-12-14-013000-g1.h5\n",
      "DRC1.1-R /monsoon/MODEL/LES_MODEL_DATA/V0/DRC1.1-R-V0/G3/out_30s/a-A-2016-12-30-113000-g1.h5\n"
     ]
    }
   ],
   "source": [
    "# which domain\n",
    "domain='1'    \n",
    "\n",
    "# colors for each simulation\n",
    "colors      = ['#000000','#377eb8', '#56B4E9','#ff7f00', '#4daf4a','#f781bf', '#a65628', '#984ea3','#999999', '#e41a1c', '#dede00']\n",
    "\n",
    "#simulation names\n",
    "simulations = ['PHI2.1-R','PHI1.1-R','AUS1.1-R','USA1.1-R','WPO1.1-R','BRA1.1-R','BRA1.2-R','RSA1.1-R','ARG1.1-R','ARG1.2-R','DRC1.1-R']\n",
    "\n",
    "# dictionary containing files for each simulation\n",
    "file_dict = {'PHI2.1-R':'/monsoon/MODEL/LES_MODEL_DATA/V0/PHI2.1-R-V0/G3/out_30s/a-A-2019-09-10-153000-g'+domain+'.h5',\n",
    "             'PHI1.1-R':'/monsoon/MODEL/LES_MODEL_DATA/V0/PHI1.1-R-V0/G3/out_30s/a-A-2019-09-10-120000-g'+domain+'.h5',\n",
    "             'AUS1.1-R':'/monsoon/MODEL/LES_MODEL_DATA/V0/AUS1.1-R-V0/G3/out_30s/a-A-2006-01-23-120000-g'+domain+'.h5',\n",
    "             'USA1.1-R':'/monsoon/MODEL/LES_MODEL_DATA/V0/USA1.1-R-V0/G3/out_30s/a-A-2022-09-16-110000-g'+domain+'.h5',\n",
    "             'WPO1.1-R':'/monsoon/MODEL/LES_MODEL_DATA/V0/WPO1.1-R-V0/G3/out_30s/a-A-2018-08-28-065000-g'+domain+'.h5',\n",
    "             'BRA1.1-R':'/monsoon/MODEL/LES_MODEL_DATA/V0/BRA1.1-R-V0/G3/out_30s/a-A-2014-03-31-190000-g'+domain+'.h5',\n",
    "             'BRA1.2-R':'/monsoon/MODEL/LES_MODEL_DATA/V0/BRA1.2-R-V0/G3/out_30s/a-A-2014-04-01-140000-g'+domain+'.h5',\n",
    "             'RSA1.1-R':'/monsoon/MODEL/LES_MODEL_DATA/V0/RSA1.1-R-V0/G3/out_30s/a-A-2008-03-11-123000-g'+domain+'.h5',\n",
    "             'ARG1.1-R':'/monsoon/MODEL/LES_MODEL_DATA/V0/ARG1.1-R-V0/G3_old/out_30s/a-A-2018-12-13-210000-g'+domain+'.h5',\n",
    "             'ARG1.2-R':'/monsoon/MODEL/LES_MODEL_DATA/V0/ARG1.2-R-V0/G3/out_30s/a-A-2018-12-14-013000-g'+domain+'.h5',\n",
    "             'DRC1.1-R':'/monsoon/MODEL/LES_MODEL_DATA/V0/DRC1.1-R-V0/G3/out_30s/a-A-2016-12-30-113000-g'+domain+'.h5'}\n",
    "\n",
    "\n",
    "for simulation_name,filename in file_dict.items():\n",
    "    print(simulation_name,filename)\n",
    "    # open the file and extract w"
   ]
  },
  {
   "cell_type": "code",
   "execution_count": 19,
   "id": "8b4c495e-6a49-4de8-8108-93a434865f59",
   "metadata": {},
   "outputs": [],
   "source": [
    "def get_percentile_w(FILENAME, PERCENTILES=[50,95,99], METHOD=None):\n",
    "    w, w_name, w_units, w_time = read_vars_WRF_RAMS.read_variable(FILENAME,'W','RAMS',output_height=False,interpolate=None,level=None,interptype=None)\n",
    "    qtc, qtc_name, qtc_units, qtc_time = read_vars_WRF_RAMS.read_variable(FILENAME,'QTC','RAMS',output_height=False,interpolate=None,level=None,interptype=None)\n",
    "   \n",
    "    w_flat = w.flatten()\n",
    "    qtc_flat = qtc.flatten()\n",
    "\n",
    "    condition = (w_flat > 1) & (qtc_flat > 0.00001) # get w at all the points where w>1 m/s and total condensate>0.00001 kg/kg\n",
    "\n",
    "    # Get the points from w that satisfy the condition\n",
    "    w_filtered = w_flat[condition]\n",
    "\n",
    "    return np.percentile(w_filtered,PERCENTILES)"
   ]
  },
  {
   "cell_type": "code",
   "execution_count": 20,
   "id": "304e8295-9ab7-4b23-8054-12a6062bd473",
   "metadata": {},
   "outputs": [
    {
     "data": {
      "text/plain": [
       "array([ 1.96012878,  7.87965374, 14.36084599])"
      ]
     },
     "execution_count": 20,
     "metadata": {},
     "output_type": "execute_result"
    }
   ],
   "source": [
    "get_percentile_w(file_dict['PHI2.1-R'], METHOD=None)"
   ]
  },
  {
   "cell_type": "code",
   "execution_count": null,
   "id": "c0e1855e-4d3c-400a-90fd-93f642bbae7f",
   "metadata": {},
   "outputs": [],
   "source": []
  }
 ],
 "metadata": {
  "kernelspec": {
   "display_name": "Python 3 (ipykernel)",
   "language": "python",
   "name": "python3"
  },
  "language_info": {
   "codemirror_mode": {
    "name": "ipython",
    "version": 3
   },
   "file_extension": ".py",
   "mimetype": "text/x-python",
   "name": "python",
   "nbconvert_exporter": "python",
   "pygments_lexer": "ipython3",
   "version": "3.9.13"
  }
 },
 "nbformat": 4,
 "nbformat_minor": 5
}
